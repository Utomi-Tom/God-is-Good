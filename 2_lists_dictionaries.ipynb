{
  "cells": [
    {
      "cell_type": "markdown",
      "metadata": {
        "id": "view-in-github",
        "colab_type": "text"
      },
      "source": [
        "<a href=\"https://colab.research.google.com/github/Utomi-Tom/God-is-Good/blob/master/2_lists_dictionaries.ipynb\" target=\"_parent\"><img src=\"https://colab.research.google.com/assets/colab-badge.svg\" alt=\"Open In Colab\"/></a>"
      ]
    },
    {
      "cell_type": "markdown",
      "metadata": {
        "id": "9POgvtpj3E5Q"
      },
      "source": [
        "# &nbsp;1. Lists"
      ]
    },
    {
      "cell_type": "markdown",
      "metadata": {
        "id": "LqTNR6sy3E5Z"
      },
      "source": [
        "As we are to become Data Scientists, we will need objects that can store multiple elements. Those kind of objects are called **collections**.\n",
        "\n",
        "In Python, the **list** is one of the most useful collections."
      ]
    },
    {
      "cell_type": "markdown",
      "metadata": {
        "id": "_cHDlkWl3E5a"
      },
      "source": [
        "## 1.1 Create"
      ]
    },
    {
      "cell_type": "markdown",
      "metadata": {
        "id": "evJ2TrGx-IJn",
        "tags": []
      },
      "source": [
        "You can create a list with `[]`, and separate the elements with a comma."
      ]
    },
    {
      "cell_type": "code",
      "execution_count": 1,
      "metadata": {
        "id": "2WTRWUWU-IJu"
      },
      "outputs": [],
      "source": [
        "# https://www.w3schools.com/python/python_lists.asp\n",
        "\n",
        "weekdays = [\"Monday\", \"Tuesday\", \"Wednesday\", \"Thursday\", \"Friday\", \"Saturday\", \"Sunday\"]"
      ]
    },
    {
      "cell_type": "markdown",
      "metadata": {
        "id": "PD2FdgHZ-IJv"
      },
      "source": [
        "A list can also contain numbers."
      ]
    },
    {
      "cell_type": "code",
      "execution_count": null,
      "metadata": {
        "id": "T8jYjrlB-IJw"
      },
      "outputs": [],
      "source": [
        "leap_years = [2000, 2004, 2008, 2012, 2016, 2020]"
      ]
    },
    {
      "cell_type": "markdown",
      "metadata": {
        "id": "ln8aKeZc-IJw"
      },
      "source": [
        "You can create a list out of something else with `list()`."
      ]
    },
    {
      "cell_type": "code",
      "execution_count": null,
      "metadata": {
        "colab": {
          "base_uri": "https://localhost:8080/"
        },
        "id": "M3ynuQNH-IJw",
        "outputId": "100b69fd-7f75-456a-8f51-1f17bfbfcd90"
      },
      "outputs": [
        {
          "output_type": "execute_result",
          "data": {
            "text/plain": [
              "['W', 'B', 'S', 'C', 'S']"
            ]
          },
          "metadata": {},
          "execution_count": 3
        }
      ],
      "source": [
        "# https://www.w3schools.com/python/ref_func_list.asp\n",
        "\n",
        "list(\"WBSCS\")"
      ]
    },
    {
      "cell_type": "markdown",
      "metadata": {
        "id": "3cfW-2BP3E5o"
      },
      "source": [
        "**Empty list**"
      ]
    },
    {
      "cell_type": "markdown",
      "metadata": {
        "id": "1k-Jftoq3E5p"
      },
      "source": [
        "Sometimes, we need to create a list without knowing what we will store in it later on."
      ]
    },
    {
      "cell_type": "code",
      "execution_count": null,
      "metadata": {
        "id": "AXdqJICz3E5p"
      },
      "outputs": [],
      "source": [
        "empty_list = []"
      ]
    },
    {
      "cell_type": "markdown",
      "metadata": {
        "id": "7uL6H9bj3E5q"
      },
      "source": [
        "## 1.2. Access"
      ]
    },
    {
      "cell_type": "markdown",
      "metadata": {
        "id": "6T5HBgqU3E5q"
      },
      "source": [
        "In Python, we call the location of an element in a list its **index**.\n",
        "\n",
        "Python lists are zero-indexed. This means that the first element in a list has index 0, rather than 1.\n",
        "Here are the index numbers for the list `weekdays`:\n",
        "\n",
        "| Element   | index |\n",
        "|-----------|---|\n",
        "| Monday    |   0   |\n",
        "| Tuesday   |   1   |\n",
        "| Wednesday |   2   |\n",
        "| Thursday  |   3   |\n",
        "| Friday    |   4   |\n",
        "| Saturday  |   5   |\n",
        "| Sunday    |   6   ||\n"
      ]
    },
    {
      "cell_type": "markdown",
      "metadata": {
        "id": "0PnNS_b43E5r"
      },
      "source": [
        "We can select a single element from a list by using square brackets `[ ]` and the index of the list's item. If we wanted to select the third element from the list, we would therefore use `weekdays[2]`."
      ]
    },
    {
      "cell_type": "code",
      "execution_count": null,
      "metadata": {
        "colab": {
          "base_uri": "https://localhost:8080/",
          "height": 35
        },
        "id": "86cEoKzp-IJx",
        "outputId": "2f2d97b3-2fda-46e7-8411-459c83931f2d"
      },
      "outputs": [
        {
          "output_type": "execute_result",
          "data": {
            "text/plain": [
              "'Wednesday'"
            ],
            "application/vnd.google.colaboratory.intrinsic+json": {
              "type": "string"
            }
          },
          "metadata": {},
          "execution_count": 5
        }
      ],
      "source": [
        "weekdays[2]"
      ]
    },
    {
      "cell_type": "markdown",
      "metadata": {
        "id": "assdOzZn3E5t"
      },
      "source": [
        "What if we wanted to select the last element of a list?\n",
        "\n",
        "We can use the index -1 to select the last item of a list, even when we don’t know how many elements are in that list. Here are the negative index numbers for our `weekdays` list.\n",
        "\n",
        "| Element   | index |\n",
        "|-----------|---|\n",
        "| Monday    |  -7   |\n",
        "| Tuesday   |  -6   |\n",
        "| Wednesday |  -5   |\n",
        "| Thursday  |  -4   |\n",
        "| Friday    |  -3   |\n",
        "| Saturday  |  -2   |\n",
        "| Sunday    |  -1   ||"
      ]
    },
    {
      "cell_type": "code",
      "execution_count": null,
      "metadata": {
        "colab": {
          "base_uri": "https://localhost:8080/",
          "height": 35
        },
        "id": "bt9Xhvg9-IJy",
        "outputId": "f66916b0-f713-4824-8a5b-df011d5a71f7"
      },
      "outputs": [
        {
          "output_type": "execute_result",
          "data": {
            "text/plain": [
              "'Sunday'"
            ],
            "application/vnd.google.colaboratory.intrinsic+json": {
              "type": "string"
            }
          },
          "metadata": {},
          "execution_count": 6
        }
      ],
      "source": [
        "weekdays[-1]"
      ]
    },
    {
      "cell_type": "code",
      "execution_count": null,
      "metadata": {
        "colab": {
          "base_uri": "https://localhost:8080/"
        },
        "id": "W_Hcp3_C-IJy",
        "outputId": "bfc58ecf-af83-4cca-cf14-f0628c35b1e7"
      },
      "outputs": [
        {
          "output_type": "execute_result",
          "data": {
            "text/plain": [
              "['Monday', 'Tuesday', 'Wednesday']"
            ]
          },
          "metadata": {},
          "execution_count": 7
        }
      ],
      "source": [
        "weekdays[0:3]"
      ]
    },
    {
      "cell_type": "markdown",
      "metadata": {
        "id": "aNKfocAU3E5v"
      },
      "source": [
        "## 1.3. Data types"
      ]
    },
    {
      "cell_type": "markdown",
      "metadata": {
        "id": "CBaW8WBC3E5v"
      },
      "source": [
        "Lists can contain any data type in Python! For example, this list contains a string, an integer, a boolean, and a float."
      ]
    },
    {
      "cell_type": "code",
      "execution_count": null,
      "metadata": {
        "id": "OtF_FmYU3E5w"
      },
      "outputs": [],
      "source": [
        "mixed_list = [\"Mia\", 27, False, 0.5]"
      ]
    },
    {
      "cell_type": "markdown",
      "metadata": {
        "id": "RgX9l5eU3E5w"
      },
      "source": [
        "## 1.4. Update"
      ]
    },
    {
      "cell_type": "markdown",
      "metadata": {
        "id": "kIfKi3OW3E5w"
      },
      "source": [
        "We can change a single element by specifying its index and overwriting its value."
      ]
    },
    {
      "cell_type": "code",
      "execution_count": null,
      "metadata": {
        "id": "tP3JhdOq3E5w",
        "outputId": "48d38210-4610-46b1-a982-e42f188ef926",
        "colab": {
          "base_uri": "https://localhost:8080/"
        }
      },
      "outputs": [
        {
          "output_type": "stream",
          "name": "stdout",
          "text": [
            "['Tomatoes', 'Green Beans', 'Strawberries', 'Grapes']\n"
          ]
        }
      ],
      "source": [
        "garden = [\"Tomatoes\", \"Green Beans\", \"Cauliflower\", \"Grapes\"]\n",
        "\n",
        "garden[2] = \"Strawberries\"\n",
        "\n",
        "print(garden)"
      ]
    },
    {
      "cell_type": "markdown",
      "metadata": {
        "id": "ngqN-AnY-IJy"
      },
      "source": [
        "One of the most useful functions we will use in combination with lists is `append()`: it just adds an element at the end of the list."
      ]
    },
    {
      "cell_type": "code",
      "execution_count": null,
      "metadata": {
        "colab": {
          "base_uri": "https://localhost:8080/"
        },
        "id": "BYfc6SML-IJz",
        "outputId": "33f41f5d-e2d5-4229-fe11-367814507fcc"
      },
      "outputs": [
        {
          "output_type": "stream",
          "name": "stdout",
          "text": [
            "[2000, 2004, 2008, 2012, 2016, 2020, 2024]\n"
          ]
        }
      ],
      "source": [
        "# https://www.w3schools.com/python/ref_list_append.asp\n",
        "\n",
        "leap_years.append(2024)\n",
        "print(leap_years)"
      ]
    },
    {
      "cell_type": "markdown",
      "metadata": {
        "id": "RxFVMxHA3E5x"
      },
      "source": [
        "When we want to add multiple items to a list, we can use `+` to combine two lists.\n",
        "\n",
        "This is also known as concatenation."
      ]
    },
    {
      "cell_type": "code",
      "execution_count": null,
      "metadata": {
        "id": "FOzCuvc13E5y",
        "outputId": "997574bb-24c9-4bf6-ffe4-9ca3a6e8ffcb",
        "colab": {
          "base_uri": "https://localhost:8080/"
        }
      },
      "outputs": [
        {
          "output_type": "stream",
          "name": "stdout",
          "text": [
            "[2000, 2004, 2008, 2012, 2016, 2020, 2024, 2028, 2032]\n"
          ]
        }
      ],
      "source": [
        "leap_years = leap_years + [2028, 2032]\n",
        "print(leap_years)"
      ]
    },
    {
      "cell_type": "markdown",
      "metadata": {
        "id": "Pbow42kU-IJz"
      },
      "source": [
        "The `insert()` function does the same, but at any specified position:"
      ]
    },
    {
      "cell_type": "code",
      "execution_count": null,
      "metadata": {
        "colab": {
          "base_uri": "https://localhost:8080/"
        },
        "id": "LlX6vM1a-IJz",
        "outputId": "22ccfa95-25f6-4946-c318-85afab7d5673"
      },
      "outputs": [
        {
          "output_type": "stream",
          "name": "stdout",
          "text": [
            "[1996, 2000, 2004, 2008, 2012, 2016, 2020, 2024, 2028, 2032]\n"
          ]
        }
      ],
      "source": [
        "# https://www.w3schools.com/python/ref_list_insert.asp\n",
        "\n",
        "leap_years.insert(0, 1996)\n",
        "print(leap_years)"
      ]
    },
    {
      "cell_type": "code",
      "execution_count": null,
      "metadata": {
        "colab": {
          "base_uri": "https://localhost:8080/"
        },
        "id": "CzHEG0Tu-IJ0",
        "outputId": "a8e566bb-2c55-4e29-ec88-9e37f7f1388a"
      },
      "outputs": [
        {
          "output_type": "stream",
          "name": "stdout",
          "text": [
            "[1996, 2000, 'Happy new millenium', 2004, 2008, 2012, 2016, 2020, 2024, 2028, 2032]\n"
          ]
        }
      ],
      "source": [
        "leap_years.insert(2, \"Happy new millenium\")\n",
        "print(leap_years)"
      ]
    },
    {
      "cell_type": "markdown",
      "metadata": {
        "id": "BN9nCFAj3E5z"
      },
      "source": [
        "## 1.5. Remove"
      ]
    },
    {
      "cell_type": "markdown",
      "metadata": {
        "id": "qHTZ8BTR3E5z"
      },
      "source": [
        "We can remove elements in a list using the `.remove()` method."
      ]
    },
    {
      "cell_type": "code",
      "execution_count": null,
      "metadata": {
        "id": "I2apxiJY3E5z",
        "outputId": "c725d021-3b4e-40b2-afc2-2f9e96b4a511",
        "colab": {
          "base_uri": "https://localhost:8080/"
        }
      },
      "outputs": [
        {
          "output_type": "stream",
          "name": "stdout",
          "text": [
            "[1996, 2000, 2004, 2008, 2012, 2016, 2020, 2024, 2028, 2032]\n"
          ]
        }
      ],
      "source": [
        "leap_years.remove(\"Happy new millenium\")\n",
        "print(leap_years)"
      ]
    },
    {
      "cell_type": "markdown",
      "metadata": {
        "id": "UAvH2X8K-IJ0"
      },
      "source": [
        "There are some other built-in methods that you can use to manipulate lists. Check them out [here](https://www.w3schools.com/python/python_lists_methods.asp) and complete the following exercises."
      ]
    },
    {
      "cell_type": "markdown",
      "metadata": {
        "id": "gzHL7kSF3E50"
      },
      "source": [
        "## 1.6. Two-dimensional lists"
      ]
    },
    {
      "cell_type": "markdown",
      "metadata": {
        "id": "7RTdNwcM3E51"
      },
      "source": [
        "We already saw that the items in a list can be both numbers or strings. But lists can contain other lists, too! We will commonly refer to these as two-dimensional (2D) lists."
      ]
    },
    {
      "cell_type": "code",
      "execution_count": null,
      "metadata": {
        "id": "JsoW1kxA3E51",
        "outputId": "4ef2081f-7b3c-4819-94f9-7d705340caa2",
        "colab": {
          "base_uri": "https://localhost:8080/"
        }
      },
      "outputs": [
        {
          "output_type": "stream",
          "name": "stdout",
          "text": [
            "[['Noelle', 61], ['Ava', 70], ['Sam', 67], ['Mia', 64]]\n"
          ]
        }
      ],
      "source": [
        "heights = [[\"Noelle\", 61], [\"Ava\", 70], [\"Sam\", 67], [\"Mia\", 64]]\n",
        "print(heights)"
      ]
    },
    {
      "cell_type": "markdown",
      "metadata": {
        "id": "XxQ8U2Ir3E51"
      },
      "source": [
        "Two-dimensional lists can be accessed similarly to one-dimensional lists. Instead of providing a single pair of brackets `[ ]`, we will use an additional set for the second dimension.  \n",
        "Here are the index numbers to access data for the list `heights`:\n",
        "\n",
        "| **Element** | Index |\n",
        "|-------------|-------|\n",
        "| Noelle      | [0,0] |\n",
        "| 61          | [0,1] |\n",
        "| Ava         | [1,0] |\n",
        "| 70          | [1,1] |\n",
        "| Sam         | [2,0] |\n",
        "| 67          | [2,1] |\n",
        "| Mia         | [3,0] |\n",
        "| 64          | [3,1] |"
      ]
    },
    {
      "cell_type": "code",
      "execution_count": null,
      "metadata": {
        "id": "qfJHHwTu3E52",
        "outputId": "bb3d02c8-b4b4-4847-9944-b135b37b2648",
        "colab": {
          "base_uri": "https://localhost:8080/"
        }
      },
      "outputs": [
        {
          "output_type": "execute_result",
          "data": {
            "text/plain": [
              "61"
            ]
          },
          "metadata": {},
          "execution_count": 16
        }
      ],
      "source": [
        "heights[0][1]"
      ]
    },
    {
      "cell_type": "markdown",
      "metadata": {
        "toc-hr-collapsed": true,
        "id": "EGi3n0Q83E52"
      },
      "source": [
        "## 1.7. Exercises"
      ]
    },
    {
      "cell_type": "code",
      "execution_count": null,
      "metadata": {
        "id": "ll49LIKx-IJ0"
      },
      "outputs": [],
      "source": [
        "# Some lists to work with\n",
        "car_brands = [\"BMW\", \"Volkswagen\", \"Mercedes\", \"Ford\", \"Apple\", \"Toyota\",\n",
        "              \"Tesla\", \"Kia\", \"Porsche\", \"Mazda\", \"Honda\", \"Jaguar\",\n",
        "              \"Mitsubishi\", \"Audi\", \"Bentley\", \"Bugatti\", \"Chrysler\"]\n",
        "\n",
        "fibonacci = [0, 1, 1, 2, 3, 5, 8, 13, 21, 34, 53, 89, 144]\n",
        "\n",
        "characters = [[\"Harry\", \"Hermione\", \"Ron\"],\n",
        "              [\"Daenerys Targaryen\", \"Jon Snow\", \"Tyrion Lannister\",\n",
        "               \"Cercei Lannister\", \"Arya Stark\", \"Sansa Stark\"],\n",
        "              [\"Aragorn\", \"Gandalf\", \"Frodo\", \"Legolas\", \"Gollum\", \"Gimli\"],\n",
        "              [\"Walter White\", \"Jesse Pinkman\", \"Gus Fring\"]\n",
        "             ]\n",
        "\n",
        "sex_and_the_city = [\"Carrie\", \"Samantha\", \"Charlotte\", \"Miranda\"]\n",
        "\n",
        "numbers = [[1, 51, 59, 2, 95, 25, 28, 67, 14, 63, 84, 33, 56, 31, 54, 97, 77,\n",
        "            98, 46, 84, 6, 66, 86, 77, 69, 19, 77, 7, 76, 19, 59, 77, 28, 34,\n",
        "            94, 4, 45, 95, 41, 66, 5, 38, 35, 57, 84, 38, 94, 65, 45, 80, 83,\n",
        "            22, 12, 100, 52, 55, 31, 69, 29, 67, 4, 39, 87, 49, 81, 82, 96, 4,\n",
        "            85, 62, 90, 72, 70, 26, 29, 63, 48, 94, 58, 9, 49, 79, 33, 63, 41,\n",
        "            13, 90, 37, 31, 3, 11, 54, 56, 72, 91, 97, 2, 83, 82, 6]]"
      ]
    },
    {
      "cell_type": "markdown",
      "metadata": {
        "id": "xlx6IauS-IJ0"
      },
      "source": [
        "#### Exercise 1"
      ]
    },
    {
      "cell_type": "markdown",
      "metadata": {
        "id": "vqjbAbFX3E53"
      },
      "source": [
        "Find the position of \"Bugatti\" in the `car_brands` list (whether it is the 3rd element, the 5th...)."
      ]
    },
    {
      "cell_type": "code",
      "execution_count": null,
      "metadata": {
        "id": "JSOkYULM-IJ1",
        "tags": []
      },
      "outputs": [],
      "source": [
        "# Your code here"
      ]
    },
    {
      "cell_type": "markdown",
      "metadata": {
        "jp-MarkdownHeadingCollapsed": true,
        "tags": [],
        "id": "mhq-MXfp3E53"
      },
      "source": [
        "##### Hint"
      ]
    },
    {
      "cell_type": "code",
      "execution_count": null,
      "metadata": {
        "id": "QSZMV-TVrsH0"
      },
      "outputs": [],
      "source": [
        "# _____.index(_____)"
      ]
    },
    {
      "cell_type": "markdown",
      "metadata": {
        "id": "zdx1dcu-3E54"
      },
      "source": [
        "#### Exercise 2"
      ]
    },
    {
      "cell_type": "markdown",
      "metadata": {
        "id": "6Ofgdt5l3E54"
      },
      "source": [
        "Remove \"Apple\" from the `car_brands` list."
      ]
    },
    {
      "cell_type": "code",
      "execution_count": null,
      "metadata": {
        "tags": [],
        "id": "MBisa_RK3E54"
      },
      "outputs": [],
      "source": [
        "# Your code here"
      ]
    },
    {
      "cell_type": "markdown",
      "metadata": {
        "jp-MarkdownHeadingCollapsed": true,
        "tags": [],
        "id": "-BLwJgyk3E54"
      },
      "source": [
        "##### Hint"
      ]
    },
    {
      "cell_type": "code",
      "execution_count": null,
      "metadata": {
        "id": "pxbbQfSn3E54"
      },
      "outputs": [],
      "source": [
        "# _____.remove(_____)"
      ]
    },
    {
      "cell_type": "markdown",
      "metadata": {
        "id": "we-Bcc2r3E54"
      },
      "source": [
        "#### Exercise 3"
      ]
    },
    {
      "cell_type": "markdown",
      "metadata": {
        "id": "BM0r2tiP3E55"
      },
      "source": [
        "Order the `car_brands` list alphabetically."
      ]
    },
    {
      "cell_type": "code",
      "execution_count": null,
      "metadata": {
        "tags": [],
        "id": "Bctkp77x3E55"
      },
      "outputs": [],
      "source": [
        "# Your code here"
      ]
    },
    {
      "cell_type": "markdown",
      "metadata": {
        "jp-MarkdownHeadingCollapsed": true,
        "tags": [],
        "id": "i9l9vkP_3E55"
      },
      "source": [
        "##### Hint"
      ]
    },
    {
      "cell_type": "code",
      "execution_count": null,
      "metadata": {
        "id": "Wa-JAb8v3E55"
      },
      "outputs": [],
      "source": [
        "# _____.sort(_____)"
      ]
    },
    {
      "cell_type": "markdown",
      "metadata": {
        "id": "qoYkzHil3E55"
      },
      "source": [
        "#### Exercise 4"
      ]
    },
    {
      "cell_type": "markdown",
      "metadata": {
        "id": "klp6BK9v3E56"
      },
      "source": [
        "There's a mistake in the list with the fibonacci sequence, fix it."
      ]
    },
    {
      "cell_type": "code",
      "source": [
        "# Your code here"
      ],
      "metadata": {
        "id": "WOAx61hy-6jM"
      },
      "execution_count": null,
      "outputs": []
    },
    {
      "cell_type": "markdown",
      "metadata": {
        "jp-MarkdownHeadingCollapsed": true,
        "tags": [],
        "id": "cqwFsa9X3E56"
      },
      "source": [
        "##### Hint"
      ]
    },
    {
      "cell_type": "code",
      "execution_count": null,
      "metadata": {
        "id": "5xq9qlwh3E56"
      },
      "outputs": [],
      "source": [
        "# _____.pop(_____)\n",
        "# fibonacci._____(10,_____)"
      ]
    },
    {
      "cell_type": "markdown",
      "metadata": {
        "id": "xCTzmOEm3E57"
      },
      "source": [
        "#### Exercise 5"
      ]
    },
    {
      "cell_type": "markdown",
      "metadata": {
        "id": "ReAz4XCd3E57"
      },
      "source": [
        "Order the `fibonacci` list descending."
      ]
    },
    {
      "cell_type": "code",
      "execution_count": null,
      "metadata": {
        "tags": [],
        "id": "0VIykhAx3E57"
      },
      "outputs": [],
      "source": [
        "# Your code here"
      ]
    },
    {
      "cell_type": "markdown",
      "metadata": {
        "id": "sae-AOXX3E57"
      },
      "source": [
        "##### Hint"
      ]
    },
    {
      "cell_type": "code",
      "execution_count": null,
      "metadata": {
        "id": "H_1rU4LV3E58"
      },
      "outputs": [],
      "source": [
        "# _____.sort(_____=True)"
      ]
    },
    {
      "cell_type": "markdown",
      "metadata": {
        "id": "1XGTmkZY3E59"
      },
      "source": [
        "#### Exercise 6"
      ]
    },
    {
      "cell_type": "markdown",
      "metadata": {
        "id": "ax_mTZJ63E59"
      },
      "source": [
        "Add \"Hagrid\" and \"Dumbledore\" to the first list inside the `characters` list."
      ]
    },
    {
      "cell_type": "code",
      "execution_count": null,
      "metadata": {
        "tags": [],
        "id": "i_SairnF3E59"
      },
      "outputs": [],
      "source": [
        "# Your code here"
      ]
    },
    {
      "cell_type": "markdown",
      "metadata": {
        "jp-MarkdownHeadingCollapsed": true,
        "tags": [],
        "id": "uKWbpdBJ3E59"
      },
      "source": [
        "##### Hint"
      ]
    },
    {
      "cell_type": "code",
      "execution_count": null,
      "metadata": {
        "id": "HppzaRQ63E59"
      },
      "outputs": [],
      "source": [
        "# _____[0].append(_____)\n",
        "# characters[0]._____('Dumbledore')"
      ]
    },
    {
      "cell_type": "markdown",
      "metadata": {
        "id": "JvU9J46D3E5_"
      },
      "source": [
        "#### Exercise 7"
      ]
    },
    {
      "cell_type": "markdown",
      "metadata": {
        "id": "WvPE-SNl3E5_"
      },
      "source": [
        "Add the `sex_and_the_city` list to the `characters` list."
      ]
    },
    {
      "cell_type": "code",
      "source": [
        "# Your code here"
      ],
      "metadata": {
        "id": "Ufn_XwDqAZMo"
      },
      "execution_count": null,
      "outputs": []
    },
    {
      "cell_type": "markdown",
      "metadata": {
        "jp-MarkdownHeadingCollapsed": true,
        "tags": [],
        "id": "U4qtCahE3E5_"
      },
      "source": [
        "##### Hint"
      ]
    },
    {
      "cell_type": "code",
      "execution_count": null,
      "metadata": {
        "id": "NkxYFwOT3E6A"
      },
      "outputs": [],
      "source": [
        "# _____.append(sex_and_the_city)"
      ]
    },
    {
      "cell_type": "markdown",
      "metadata": {
        "id": "ijDBvoJe3E6A"
      },
      "source": [
        "#### Exercise 8"
      ]
    },
    {
      "cell_type": "markdown",
      "metadata": {
        "id": "Ddzwtzkq3E6B"
      },
      "source": [
        "Remove all elements from the `sex_and_the_city` list."
      ]
    },
    {
      "cell_type": "code",
      "execution_count": null,
      "metadata": {
        "tags": [],
        "id": "a1_2abaA3E6B"
      },
      "outputs": [],
      "source": [
        "# Your code here"
      ]
    },
    {
      "cell_type": "markdown",
      "metadata": {
        "jp-MarkdownHeadingCollapsed": true,
        "tags": [],
        "id": "eyL15YYa3E6B"
      },
      "source": [
        "##### Hint"
      ]
    },
    {
      "cell_type": "code",
      "execution_count": null,
      "metadata": {
        "id": "gjk01Yo53E6C"
      },
      "outputs": [],
      "source": [
        "# sex_and_the_city._____()"
      ]
    },
    {
      "cell_type": "markdown",
      "metadata": {
        "id": "v-_JLQqW3E6C"
      },
      "source": [
        "#### Exercise 9"
      ]
    },
    {
      "cell_type": "markdown",
      "metadata": {
        "id": "9OSbZJ-I3E6D"
      },
      "source": [
        "Sum all elements in the `numbers` list and save the sum to the variable `total`."
      ]
    },
    {
      "cell_type": "code",
      "source": [
        "# Your code here"
      ],
      "metadata": {
        "id": "oXc6rR5jAwds"
      },
      "execution_count": null,
      "outputs": []
    },
    {
      "cell_type": "markdown",
      "metadata": {
        "jp-MarkdownHeadingCollapsed": true,
        "tags": [],
        "id": "QN5Vawp03E6D"
      },
      "source": [
        "##### Hint"
      ]
    },
    {
      "cell_type": "code",
      "execution_count": null,
      "metadata": {
        "id": "SYCcy1Wv3E6D"
      },
      "outputs": [],
      "source": [
        "# total = _____(_____[0])"
      ]
    },
    {
      "cell_type": "markdown",
      "metadata": {
        "id": "pCrMkBJe3E6E"
      },
      "source": [
        "#### Exercise 10"
      ]
    },
    {
      "cell_type": "markdown",
      "metadata": {
        "id": "XNYtBh9K3E6E"
      },
      "source": [
        "Find out how often the number `77` appears in the `numbers` list."
      ]
    },
    {
      "cell_type": "code",
      "execution_count": null,
      "metadata": {
        "tags": [],
        "id": "-YctyVCy3E6E"
      },
      "outputs": [],
      "source": [
        "# Your code here"
      ]
    },
    {
      "cell_type": "markdown",
      "metadata": {
        "jp-MarkdownHeadingCollapsed": true,
        "tags": [],
        "id": "LoUr_Vss3E6E"
      },
      "source": [
        "##### Hint"
      ]
    },
    {
      "cell_type": "code",
      "execution_count": null,
      "metadata": {
        "id": "YOng4l-e3E6E"
      },
      "outputs": [],
      "source": [
        "# numbers[0]._____(77)"
      ]
    },
    {
      "cell_type": "markdown",
      "metadata": {
        "id": "CcfUXFPx3E6F"
      },
      "source": [
        "# &nbsp;2. Dictionaries"
      ]
    },
    {
      "cell_type": "markdown",
      "metadata": {
        "id": "SgRmmG7f3E6F"
      },
      "source": [
        "So far, we learned how to use lists. Now, we will learn about **dictionaries**."
      ]
    },
    {
      "cell_type": "markdown",
      "metadata": {
        "id": "JRctCyia3E6F"
      },
      "source": [
        "The dictionary is an **ordered** (as from Python version 3.7) and **changeable** collection that contains\n",
        "\n",
        "* key-value pairs\n",
        "\n",
        "* separated by commas\n",
        "\n",
        "* inside curly brackets."
      ]
    },
    {
      "cell_type": "markdown",
      "metadata": {
        "id": "h4BFo5pH3E6F"
      },
      "source": [
        "## 2.1. Create"
      ]
    },
    {
      "cell_type": "markdown",
      "metadata": {
        "id": "BcDw2jbA3E6F"
      },
      "source": [
        "An example of a dictionary."
      ]
    },
    {
      "cell_type": "code",
      "execution_count": null,
      "metadata": {
        "id": "53sifOYw3E6F",
        "outputId": "ab0d2571-5cd2-4913-93f8-a2bf0519205f",
        "colab": {
          "base_uri": "https://localhost:8080/"
        }
      },
      "outputs": [
        {
          "output_type": "execute_result",
          "data": {
            "text/plain": [
              "{'Germany': 'Berlin', 'France': 'Paris'}"
            ]
          },
          "metadata": {},
          "execution_count": 38
        }
      ],
      "source": [
        "dictionary = {'Germany':'Berlin', 'France':'Paris'}\n",
        "dictionary"
      ]
    },
    {
      "cell_type": "markdown",
      "metadata": {
        "id": "T4TDPTE83E6G"
      },
      "source": [
        "Germany and France are the **keys** and Berlin and Paris are the coresponding **values**."
      ]
    },
    {
      "cell_type": "markdown",
      "metadata": {
        "id": "xEdyNEt83E6G"
      },
      "source": [
        "To add a new item to an existing dictionary, just assign a value to a new key."
      ]
    },
    {
      "cell_type": "code",
      "execution_count": null,
      "metadata": {
        "id": "2eFWOMoC3E6G",
        "outputId": "7820d73d-f5a8-4900-8626-388841ceab8f",
        "colab": {
          "base_uri": "https://localhost:8080/"
        }
      },
      "outputs": [
        {
          "output_type": "execute_result",
          "data": {
            "text/plain": [
              "{'Germany': 'Berlin', 'France': 'Paris', 'Spain': 'Madrid'}"
            ]
          },
          "metadata": {},
          "execution_count": 39
        }
      ],
      "source": [
        "dictionary['Spain'] = 'Madrid'\n",
        "dictionary"
      ]
    },
    {
      "cell_type": "markdown",
      "metadata": {
        "id": "jFutfsz33E6G"
      },
      "source": [
        "Empty dictionary:"
      ]
    },
    {
      "cell_type": "code",
      "execution_count": null,
      "metadata": {
        "id": "HosOxL-B3E6H",
        "outputId": "22574852-bd74-40cb-b45b-c3e125a79b30",
        "colab": {
          "base_uri": "https://localhost:8080/"
        }
      },
      "outputs": [
        {
          "output_type": "execute_result",
          "data": {
            "text/plain": [
              "{}"
            ]
          },
          "metadata": {},
          "execution_count": 40
        }
      ],
      "source": [
        "empt_dict = {}\n",
        "empt_dict"
      ]
    },
    {
      "cell_type": "markdown",
      "metadata": {
        "id": "C47qT0FY3E6H"
      },
      "source": [
        "Dictionaries can't have duplicated key-value pairs."
      ]
    },
    {
      "cell_type": "code",
      "execution_count": null,
      "metadata": {
        "id": "2G9wplyC3E6H",
        "outputId": "fb12ac9d-fa07-40aa-b850-c8076b2c3ae4",
        "colab": {
          "base_uri": "https://localhost:8080/"
        }
      },
      "outputs": [
        {
          "output_type": "execute_result",
          "data": {
            "text/plain": [
              "{1: 1, 2: 2}"
            ]
          },
          "metadata": {},
          "execution_count": 41
        }
      ],
      "source": [
        "dupl_val_dict= {1:1,2:2,1:1}\n",
        "dupl_val_dict"
      ]
    },
    {
      "cell_type": "markdown",
      "metadata": {
        "id": "pVQN_oOg3E6H"
      },
      "source": [
        "## 2.2. Access"
      ]
    },
    {
      "cell_type": "markdown",
      "metadata": {
        "id": "z04_IAQ53E6I"
      },
      "source": [
        "If we want to access a **value** inside a dictionary, we can do so with the **key** in square brackets."
      ]
    },
    {
      "cell_type": "code",
      "execution_count": null,
      "metadata": {
        "id": "3GIHSSXM3E6I",
        "outputId": "3d23f06c-3e70-412d-8ccc-865452c8d96c",
        "colab": {
          "base_uri": "https://localhost:8080/",
          "height": 35
        }
      },
      "outputs": [
        {
          "output_type": "execute_result",
          "data": {
            "text/plain": [
              "'Berlin'"
            ],
            "application/vnd.google.colaboratory.intrinsic+json": {
              "type": "string"
            }
          },
          "metadata": {},
          "execution_count": 42
        }
      ],
      "source": [
        "dictionary['Germany']"
      ]
    },
    {
      "cell_type": "code",
      "execution_count": null,
      "metadata": {
        "id": "UvVqGZ2g3E6I",
        "outputId": "4edc7f44-a8c4-4819-efa5-b6e596254c34",
        "colab": {
          "base_uri": "https://localhost:8080/",
          "height": 35
        }
      },
      "outputs": [
        {
          "output_type": "execute_result",
          "data": {
            "text/plain": [
              "'Paris'"
            ],
            "application/vnd.google.colaboratory.intrinsic+json": {
              "type": "string"
            }
          },
          "metadata": {},
          "execution_count": 43
        }
      ],
      "source": [
        "dictionary['France']"
      ]
    },
    {
      "cell_type": "markdown",
      "metadata": {
        "id": "KDev7G4B3E6J"
      },
      "source": [
        "We can also acces values with the **get()** method."
      ]
    },
    {
      "cell_type": "code",
      "execution_count": null,
      "metadata": {
        "id": "DGXCZBiJ3E6J",
        "outputId": "3dd92bf9-42a2-4d01-8266-9de304600614",
        "colab": {
          "base_uri": "https://localhost:8080/",
          "height": 35
        }
      },
      "outputs": [
        {
          "output_type": "execute_result",
          "data": {
            "text/plain": [
              "'Berlin'"
            ],
            "application/vnd.google.colaboratory.intrinsic+json": {
              "type": "string"
            }
          },
          "metadata": {},
          "execution_count": 44
        }
      ],
      "source": [
        "dictionary.get('Germany')"
      ]
    },
    {
      "cell_type": "markdown",
      "metadata": {
        "id": "y7XM8zl53E6J"
      },
      "source": [
        "To retrieve a list of all the keys inside a dictionary, we use the **keys()** method."
      ]
    },
    {
      "cell_type": "code",
      "execution_count": null,
      "metadata": {
        "id": "C-KtVzJU3E6J"
      },
      "outputs": [],
      "source": [
        "big_dict = {'English': 85, 'Math': 72, 'Science': 79, 'Art': 88}"
      ]
    },
    {
      "cell_type": "code",
      "execution_count": null,
      "metadata": {
        "id": "yCf2Uhva3E6J",
        "outputId": "ed09c409-ae45-47c6-98ca-7e473c350553",
        "colab": {
          "base_uri": "https://localhost:8080/"
        }
      },
      "outputs": [
        {
          "output_type": "execute_result",
          "data": {
            "text/plain": [
              "dict_keys(['English', 'Math', 'Science', 'Art'])"
            ]
          },
          "metadata": {},
          "execution_count": 46
        }
      ],
      "source": [
        "big_dict.keys()"
      ]
    },
    {
      "cell_type": "markdown",
      "metadata": {
        "id": "qoux8se93E6J"
      },
      "source": [
        "To retrieve a list of all the values inside a dictionary, we use the **values()** method."
      ]
    },
    {
      "cell_type": "code",
      "execution_count": null,
      "metadata": {
        "id": "1K9Y0ju43E6K",
        "outputId": "e388c384-88c6-44d3-ad8d-b9a314e25b96",
        "colab": {
          "base_uri": "https://localhost:8080/"
        }
      },
      "outputs": [
        {
          "output_type": "execute_result",
          "data": {
            "text/plain": [
              "dict_values([85, 72, 79, 88])"
            ]
          },
          "metadata": {},
          "execution_count": 47
        }
      ],
      "source": [
        "big_dict.values()"
      ]
    },
    {
      "cell_type": "markdown",
      "metadata": {
        "id": "3LDDHP-43E6K"
      },
      "source": [
        "To retrieve a list of all the values and keys inside a dictionary, we use the **items()** method."
      ]
    },
    {
      "cell_type": "code",
      "execution_count": null,
      "metadata": {
        "id": "lIF-kkVT3E6K",
        "outputId": "163db9a7-4233-4123-f395-78ed60894a05",
        "colab": {
          "base_uri": "https://localhost:8080/"
        }
      },
      "outputs": [
        {
          "output_type": "execute_result",
          "data": {
            "text/plain": [
              "dict_items([('English', 85), ('Math', 72), ('Science', 79), ('Art', 88)])"
            ]
          },
          "metadata": {},
          "execution_count": 48
        }
      ],
      "source": [
        "big_dict.items()"
      ]
    },
    {
      "cell_type": "markdown",
      "metadata": {
        "id": "Merhppf43E6K"
      },
      "source": [
        "To check the length (number of items) of a dictionary, we use the len() function."
      ]
    },
    {
      "cell_type": "code",
      "execution_count": null,
      "metadata": {
        "id": "yHnAkG2E3E6K",
        "outputId": "88d2070d-6b7f-4cd1-b20b-de0baa2c23f8",
        "colab": {
          "base_uri": "https://localhost:8080/"
        }
      },
      "outputs": [
        {
          "output_type": "execute_result",
          "data": {
            "text/plain": [
              "4"
            ]
          },
          "metadata": {},
          "execution_count": 49
        }
      ],
      "source": [
        "len(big_dict)"
      ]
    },
    {
      "cell_type": "markdown",
      "metadata": {
        "id": "JttSIWh83E6L"
      },
      "source": [
        "## 2.3. Data types"
      ]
    },
    {
      "cell_type": "markdown",
      "metadata": {
        "id": "iUApx5Qj3E6L"
      },
      "source": [
        "The keys in a dictionary should be unique and immutable.  \n",
        "Keys can be:  \n",
        "- numbers\n",
        "- strings\n",
        "- tuples"
      ]
    },
    {
      "cell_type": "code",
      "execution_count": null,
      "metadata": {
        "id": "pnXRk9e83E6L",
        "outputId": "6afc5e3b-5bf4-4700-899a-7269e8936824",
        "colab": {
          "base_uri": "https://localhost:8080/",
          "height": 35
        }
      },
      "outputs": [
        {
          "output_type": "execute_result",
          "data": {
            "text/plain": [
              "'One'"
            ],
            "application/vnd.google.colaboratory.intrinsic+json": {
              "type": "string"
            }
          },
          "metadata": {},
          "execution_count": 50
        }
      ],
      "source": [
        "dict_with_number_key = {1:'One',2:'Two',3:'Three'}\n",
        "dict_with_number_key[1]"
      ]
    },
    {
      "cell_type": "markdown",
      "metadata": {
        "id": "E64woW7B3E6M"
      },
      "source": [
        "The values can be of **any type**, even other collections like lists."
      ]
    },
    {
      "cell_type": "code",
      "execution_count": null,
      "metadata": {
        "id": "_623YjvI3E6M",
        "outputId": "56647811-00bb-48fe-9255-44a262270f08",
        "colab": {
          "base_uri": "https://localhost:8080/"
        }
      },
      "outputs": [
        {
          "output_type": "execute_result",
          "data": {
            "text/plain": [
              "[0, 1, 1, 2, 3, 5, 8, 13, 21, 34]"
            ]
          },
          "metadata": {},
          "execution_count": 51
        }
      ],
      "source": [
        "dict_with_list_values = {'fib':[0, 1, 1, 2, 3, 5, 8, 13, 21, 34],'prime':[2, 3, 5, 7, 11, 13, 17, 19, 23, 29]}\n",
        "dict_with_list_values['fib']"
      ]
    },
    {
      "cell_type": "code",
      "execution_count": null,
      "metadata": {
        "id": "P3pZNWaO3E6M",
        "outputId": "c2b65e17-2be2-482b-de26-b89af4288673",
        "colab": {
          "base_uri": "https://localhost:8080/"
        }
      },
      "outputs": [
        {
          "output_type": "execute_result",
          "data": {
            "text/plain": [
              "2"
            ]
          },
          "metadata": {},
          "execution_count": 52
        }
      ],
      "source": [
        "dict_with_list_values['fib'][3]"
      ]
    },
    {
      "cell_type": "markdown",
      "metadata": {
        "id": "l09czFxg3E6M"
      },
      "source": [
        "Dictionaries can contain mixed data types."
      ]
    },
    {
      "cell_type": "code",
      "execution_count": null,
      "metadata": {
        "id": "Ke3cE_t_3E6M",
        "outputId": "7b897d31-0922-4094-eff2-d9a379494aa4",
        "colab": {
          "base_uri": "https://localhost:8080/"
        }
      },
      "outputs": [
        {
          "output_type": "execute_result",
          "data": {
            "text/plain": [
              "{'Country': 'Germany',\n",
              " 'EU': True,\n",
              " 'Population': 83000000,\n",
              " 'Cities': ['Berlin', 'Munich', 'Hamburg']}"
            ]
          },
          "metadata": {},
          "execution_count": 53
        }
      ],
      "source": [
        "mixed_dict = {\n",
        "    'Country':'Germany',\n",
        "    'EU':True,\n",
        "    'Population':83000000,\n",
        "    'Cities':['Berlin','Munich','Hamburg']}\n",
        "mixed_dict"
      ]
    },
    {
      "cell_type": "markdown",
      "metadata": {
        "tags": [],
        "id": "Jg7h18w53E6M"
      },
      "source": [
        "## 2.4. Update"
      ]
    },
    {
      "cell_type": "markdown",
      "metadata": {
        "id": "Fn7aoVT83E6N"
      },
      "source": [
        "To update a value in a dictionary, we need to access the value with a key and assign a new one."
      ]
    },
    {
      "cell_type": "code",
      "execution_count": null,
      "metadata": {
        "id": "P9os3hrm3E6N",
        "outputId": "33fa4d73-920c-4899-f83e-cb11c41b8956",
        "colab": {
          "base_uri": "https://localhost:8080/"
        }
      },
      "outputs": [
        {
          "output_type": "execute_result",
          "data": {
            "text/plain": [
              "{'Germany': 'London', 'France': 'Paris'}"
            ]
          },
          "metadata": {},
          "execution_count": 54
        }
      ],
      "source": [
        "dict_to_update = {'Germany':'London','France':'Paris'}\n",
        "dict_to_update"
      ]
    },
    {
      "cell_type": "code",
      "execution_count": null,
      "metadata": {
        "id": "sj77M7WC3E6O",
        "outputId": "dc5b294a-7805-490f-e39c-3583578e0fd8",
        "colab": {
          "base_uri": "https://localhost:8080/"
        }
      },
      "outputs": [
        {
          "output_type": "execute_result",
          "data": {
            "text/plain": [
              "{'Germany': 'Berlin', 'France': 'Paris'}"
            ]
          },
          "metadata": {},
          "execution_count": 55
        }
      ],
      "source": [
        "dict_to_update['Germany'] = 'Berlin'\n",
        "dict_to_update"
      ]
    },
    {
      "cell_type": "markdown",
      "metadata": {
        "id": "fp6LZ-Yu3E6O"
      },
      "source": [
        "We can also update the value with the **update()** method."
      ]
    },
    {
      "cell_type": "code",
      "execution_count": null,
      "metadata": {
        "id": "hhhLeopV3E6O",
        "outputId": "a3f918b6-ec22-4a95-ad3b-da10786c287c",
        "colab": {
          "base_uri": "https://localhost:8080/"
        }
      },
      "outputs": [
        {
          "output_type": "execute_result",
          "data": {
            "text/plain": [
              "{'Germany': 'Berlin', 'France': 'Paris'}"
            ]
          },
          "metadata": {},
          "execution_count": 56
        }
      ],
      "source": [
        "dict_to_update = {'Germany':'London','France':'Paris'}\n",
        "dict_to_update.update({'Germany':'Berlin'})\n",
        "dict_to_update"
      ]
    },
    {
      "cell_type": "markdown",
      "metadata": {
        "id": "WnpXf8UK3E6O"
      },
      "source": [
        "## 2.5. Remove"
      ]
    },
    {
      "cell_type": "markdown",
      "metadata": {
        "id": "PPQoz35j3E6O"
      },
      "source": [
        "The **pop()** method removes the item with specified key."
      ]
    },
    {
      "cell_type": "code",
      "execution_count": null,
      "metadata": {
        "id": "gTq4jNRB3E6O",
        "outputId": "1345a9c9-6da2-4e57-9170-a19ba3926a4e",
        "colab": {
          "base_uri": "https://localhost:8080/"
        }
      },
      "outputs": [
        {
          "output_type": "execute_result",
          "data": {
            "text/plain": [
              "{'Germany': 'Berlin', 'France': 'Paris'}"
            ]
          },
          "metadata": {},
          "execution_count": 57
        }
      ],
      "source": [
        "dict_to_remove = {'Germany':'Berlin','France':'Paris'}\n",
        "dict_to_remove"
      ]
    },
    {
      "cell_type": "markdown",
      "metadata": {
        "id": "xv3BLo0j3E6O"
      },
      "source": [
        "The **pop()** method also returns the removed value so we can save it to another variable if needed."
      ]
    },
    {
      "cell_type": "code",
      "execution_count": null,
      "metadata": {
        "id": "yWWVhf1f3E6O"
      },
      "outputs": [],
      "source": [
        "x = dict_to_remove.pop('France')"
      ]
    },
    {
      "cell_type": "code",
      "execution_count": null,
      "metadata": {
        "id": "wp2T7s5r3E6O",
        "outputId": "d90f9a9a-4ec1-4e3f-9636-481b156223fb",
        "colab": {
          "base_uri": "https://localhost:8080/"
        }
      },
      "outputs": [
        {
          "output_type": "execute_result",
          "data": {
            "text/plain": [
              "{'Germany': 'Berlin'}"
            ]
          },
          "metadata": {},
          "execution_count": 59
        }
      ],
      "source": [
        "dict_to_remove"
      ]
    },
    {
      "cell_type": "code",
      "execution_count": null,
      "metadata": {
        "id": "mENgZY653E6P",
        "outputId": "d046332c-ec9e-4b55-bfaa-efca43b4bf8f",
        "colab": {
          "base_uri": "https://localhost:8080/",
          "height": 35
        }
      },
      "outputs": [
        {
          "output_type": "execute_result",
          "data": {
            "text/plain": [
              "'Paris'"
            ],
            "application/vnd.google.colaboratory.intrinsic+json": {
              "type": "string"
            }
          },
          "metadata": {},
          "execution_count": 60
        }
      ],
      "source": [
        "x"
      ]
    },
    {
      "cell_type": "markdown",
      "metadata": {
        "id": "UmmWTqnL3E6P"
      },
      "source": [
        "The **del** keyword also removes the item with specified key."
      ]
    },
    {
      "cell_type": "code",
      "execution_count": null,
      "metadata": {
        "id": "4eQGzCSY3E6P",
        "outputId": "9f29a149-b49d-4c5e-8d5a-b077239ae85b",
        "colab": {
          "base_uri": "https://localhost:8080/"
        }
      },
      "outputs": [
        {
          "output_type": "execute_result",
          "data": {
            "text/plain": [
              "{1: 'First', 3: 'Third'}"
            ]
          },
          "metadata": {},
          "execution_count": 61
        }
      ],
      "source": [
        "dict_to_delete = {1:'First',3:'Third'}\n",
        "dict_to_delete"
      ]
    },
    {
      "cell_type": "code",
      "execution_count": null,
      "metadata": {
        "id": "4DySRMyC3E6P",
        "outputId": "7c0ab775-fbe9-4bbb-d412-aa1561eb4bf7",
        "colab": {
          "base_uri": "https://localhost:8080/"
        }
      },
      "outputs": [
        {
          "output_type": "execute_result",
          "data": {
            "text/plain": [
              "{1: 'First'}"
            ]
          },
          "metadata": {},
          "execution_count": 62
        }
      ],
      "source": [
        "del dict_to_delete[3]\n",
        "dict_to_delete"
      ]
    },
    {
      "cell_type": "markdown",
      "metadata": {
        "tags": [],
        "toc-hr-collapsed": true,
        "id": "3JGNUwf93E6P"
      },
      "source": [
        "## 2.6. Exercises"
      ]
    },
    {
      "cell_type": "markdown",
      "metadata": {
        "id": "WlBxNT_03E6Q"
      },
      "source": [
        "### Exercise 11"
      ]
    },
    {
      "cell_type": "markdown",
      "metadata": {
        "id": "4u0fUjxc3E6R"
      },
      "source": [
        "Put these values in a `prices` dictionary:  \n",
        "- banana: 4\n",
        "\n",
        "- apple: 2\n",
        "\n",
        "- orange: 1.5\n",
        "\n",
        "- pear: 3"
      ]
    },
    {
      "cell_type": "code",
      "execution_count": null,
      "metadata": {
        "id": "kyflSawc3E6R"
      },
      "outputs": [],
      "source": [
        "# Your code here"
      ]
    },
    {
      "cell_type": "markdown",
      "metadata": {
        "jp-MarkdownHeadingCollapsed": true,
        "tags": [],
        "id": "TAS_v2ZX3E6R"
      },
      "source": [
        "##### Hint"
      ]
    },
    {
      "cell_type": "code",
      "execution_count": null,
      "metadata": {
        "id": "26yx4aQD3E6R"
      },
      "outputs": [],
      "source": [
        "# _______ = {_______:4, _______:__, \"orange\":__, _______:__}"
      ]
    },
    {
      "cell_type": "markdown",
      "metadata": {
        "id": "pcgH6fqD3E6S"
      },
      "source": [
        "### Exercise 12"
      ]
    },
    {
      "cell_type": "markdown",
      "metadata": {
        "id": "dhNHB2DD3E6S"
      },
      "source": [
        "Add more values to the `prices` dictionary.\n",
        "\n",
        "- lemon: 5000\n",
        "- pasta: 3"
      ]
    },
    {
      "cell_type": "code",
      "execution_count": null,
      "metadata": {
        "id": "EyPrGUER3E6S"
      },
      "outputs": [],
      "source": [
        "# Your code here"
      ]
    },
    {
      "cell_type": "markdown",
      "metadata": {
        "jp-MarkdownHeadingCollapsed": true,
        "tags": [],
        "id": "CDrDoe7c3E6S"
      },
      "source": [
        "##### Hint"
      ]
    },
    {
      "cell_type": "code",
      "execution_count": null,
      "metadata": {
        "id": "v8aHmFXJ3E6S"
      },
      "outputs": [],
      "source": [
        "# prices[_______] = _______\n",
        "# _______[\"pasta\"] = _______"
      ]
    },
    {
      "cell_type": "markdown",
      "metadata": {
        "id": "L24xRsRs3E6T"
      },
      "source": [
        "### Exercise 13"
      ]
    },
    {
      "cell_type": "markdown",
      "metadata": {
        "id": "V7cAI2xc3E6T"
      },
      "source": [
        "Delete the item with the key `\"pasta\"` and store the value in the variable `deleted_value`."
      ]
    },
    {
      "cell_type": "code",
      "execution_count": null,
      "metadata": {
        "id": "3ccXpKEG3E6T"
      },
      "outputs": [],
      "source": [
        "# Your code here"
      ]
    },
    {
      "cell_type": "markdown",
      "metadata": {
        "jp-MarkdownHeadingCollapsed": true,
        "tags": [],
        "id": "FgujRhPT3E6T"
      },
      "source": [
        "##### Hint"
      ]
    },
    {
      "cell_type": "code",
      "execution_count": null,
      "metadata": {
        "id": "OWi0LG6i3E6T"
      },
      "outputs": [],
      "source": [
        "# deleted_value = _______.pop(_______)"
      ]
    },
    {
      "cell_type": "markdown",
      "metadata": {
        "id": "ATsXlwWp3E6T"
      },
      "source": [
        "### Exercise 14"
      ]
    },
    {
      "cell_type": "markdown",
      "metadata": {
        "id": "kiobo33V3E6U"
      },
      "source": [
        "Update the value of the item with the key `\"lemon\"` to `5`."
      ]
    },
    {
      "cell_type": "code",
      "execution_count": null,
      "metadata": {
        "id": "colNYHZi3E6U"
      },
      "outputs": [],
      "source": [
        "# Your code here"
      ]
    },
    {
      "cell_type": "markdown",
      "metadata": {
        "jp-MarkdownHeadingCollapsed": true,
        "tags": [],
        "id": "bTRcEseV3E6U"
      },
      "source": [
        "##### Hint"
      ]
    },
    {
      "cell_type": "code",
      "execution_count": null,
      "metadata": {
        "id": "09ZuDgnz3E6U"
      },
      "outputs": [],
      "source": [
        "# prices[_______] = 5"
      ]
    },
    {
      "cell_type": "markdown",
      "metadata": {
        "id": "Yv3AieQ5W54V"
      },
      "source": [
        "# &nbsp;3. BONUS Tuples and Sets"
      ]
    },
    {
      "cell_type": "markdown",
      "metadata": {
        "id": "oWTb4LBU3E6V"
      },
      "source": [
        "## 3.1 Tuples\n",
        "**Tuples** are very much like lists. The only difference is that tuples are unmutable. You will see what that means in a second. They are defined by regular parentheses `()` instead of square brackets `[]`."
      ]
    },
    {
      "cell_type": "code",
      "execution_count": null,
      "metadata": {
        "colab": {
          "base_uri": "https://localhost:8080/"
        },
        "id": "90Yca7rWKEN9",
        "outputId": "39edaaea-c19b-4950-faf0-969e99604d90"
      },
      "outputs": [
        {
          "output_type": "stream",
          "name": "stdout",
          "text": [
            "('a', 'b', 'c', 'd')\n"
          ]
        }
      ],
      "source": [
        "my_tuple = (\"a\", \"b\", \"c\", \"d\")\n",
        "print(my_tuple)"
      ]
    },
    {
      "cell_type": "markdown",
      "metadata": {
        "id": "HF6rQ5ZfKjoW"
      },
      "source": [
        "Tuples are ordered. You can select items inside of a tuple by indexing with `[]`."
      ]
    },
    {
      "cell_type": "code",
      "execution_count": null,
      "metadata": {
        "colab": {
          "base_uri": "https://localhost:8080/",
          "height": 35
        },
        "id": "ywI8Ls0zKHfm",
        "outputId": "9a428c97-9884-45d4-80f0-e2bd35b34142"
      },
      "outputs": [
        {
          "output_type": "execute_result",
          "data": {
            "text/plain": [
              "'c'"
            ],
            "application/vnd.google.colaboratory.intrinsic+json": {
              "type": "string"
            }
          },
          "metadata": {},
          "execution_count": 72
        }
      ],
      "source": [
        "my_tuple[2]"
      ]
    },
    {
      "cell_type": "markdown",
      "metadata": {
        "id": "Ygt4oqOzK5xq"
      },
      "source": [
        "But you can not update the value of an element inside of a tuple. Trying to do so will result in a `TypeError`.\n",
        "\n"
      ]
    },
    {
      "cell_type": "code",
      "execution_count": null,
      "metadata": {
        "colab": {
          "base_uri": "https://localhost:8080/",
          "height": 166
        },
        "id": "Xx0D8XzWKhMl",
        "outputId": "686f4be7-3561-4683-ffd6-0edd720a50b8"
      },
      "outputs": [
        {
          "output_type": "error",
          "ename": "TypeError",
          "evalue": "ignored",
          "traceback": [
            "\u001b[0;31m---------------------------------------------------------------------------\u001b[0m",
            "\u001b[0;31mTypeError\u001b[0m                                 Traceback (most recent call last)",
            "\u001b[0;32m<ipython-input-73-e34fd2f38e8a>\u001b[0m in \u001b[0;36m<module>\u001b[0;34m\u001b[0m\n\u001b[0;32m----> 1\u001b[0;31m \u001b[0mmy_tuple\u001b[0m\u001b[0;34m[\u001b[0m\u001b[0;36m2\u001b[0m\u001b[0;34m]\u001b[0m \u001b[0;34m=\u001b[0m \u001b[0;34m\"e\"\u001b[0m\u001b[0;34m\u001b[0m\u001b[0;34m\u001b[0m\u001b[0m\n\u001b[0m",
            "\u001b[0;31mTypeError\u001b[0m: 'tuple' object does not support item assignment"
          ]
        }
      ],
      "source": [
        "my_tuple[2] = \"e\""
      ]
    },
    {
      "cell_type": "code",
      "execution_count": null,
      "metadata": {
        "id": "4vohqgwmdyOA",
        "outputId": "373d56cb-e496-4550-db64-961283bd59d7",
        "colab": {
          "base_uri": "https://localhost:8080/"
        }
      },
      "outputs": [
        {
          "output_type": "stream",
          "name": "stdout",
          "text": [
            "a\n"
          ]
        }
      ],
      "source": [
        "print(my_tuple[0])"
      ]
    },
    {
      "cell_type": "markdown",
      "metadata": {
        "id": "PqltEjSlLU_X"
      },
      "source": [
        "## 3.2 Sets\n",
        "**Sets** are another type of collections of items, just like lists and tuples. They have the following properties:\n",
        "\n",
        "* They are not ordered.\n",
        "* Since they are unordered, they lack indexing.\n",
        "* They cannot contain duplicate items."
      ]
    },
    {
      "cell_type": "code",
      "execution_count": null,
      "metadata": {
        "id": "d0krvDFxKfNd"
      },
      "outputs": [],
      "source": [
        "my_set = {1, 2, 3, 4}"
      ]
    },
    {
      "cell_type": "markdown",
      "metadata": {
        "id": "etD845CPMSs_"
      },
      "source": [
        "If you try to include a duplicate in a set, it will simply not get stored."
      ]
    },
    {
      "cell_type": "code",
      "execution_count": null,
      "metadata": {
        "id": "AqB52ehOMQwW",
        "outputId": "c02c837a-4641-44c2-9fe3-06d119a08210",
        "colab": {
          "base_uri": "https://localhost:8080/"
        }
      },
      "outputs": [
        {
          "output_type": "stream",
          "name": "stdout",
          "text": [
            "{1, 2, 3, 5}\n"
          ]
        }
      ],
      "source": [
        "my_fibonacci_set = {1, 1, 2, 3, 5}\n",
        "print(my_fibonacci_set)"
      ]
    },
    {
      "cell_type": "markdown",
      "metadata": {
        "id": "5YxifWyWMrZB"
      },
      "source": [
        "This characteristic makes them useful to extract unique values from other python collections. You can transform another collection into a set using the `set()` function:"
      ]
    },
    {
      "cell_type": "code",
      "execution_count": null,
      "metadata": {
        "id": "GncBABY0Mmdl",
        "outputId": "0e84ae1f-a496-407d-9cd6-cedd9897a394",
        "colab": {
          "base_uri": "https://localhost:8080/"
        }
      },
      "outputs": [
        {
          "output_type": "stream",
          "name": "stdout",
          "text": [
            "{1, 2.5, 3.99, 4.95, 3, 6, 4, 8, 9.99, 11.25, 14}\n"
          ]
        }
      ],
      "source": [
        "# https://www.w3schools.com/python/ref_func_set.asp\n",
        "\n",
        "price_list = [3.99, 2.5, 9.99, 1, 4.95,\n",
        "              3, 2.5, 6, 8, 1, 9.99, 4,\n",
        "              11.25, 14, 3.99, 4, 6, 1]\n",
        "unique_prices = set(price_list)\n",
        "print(unique_prices)"
      ]
    },
    {
      "cell_type": "code",
      "execution_count": null,
      "metadata": {
        "id": "Y4JYpJ0GNMJ8",
        "outputId": "13ec0181-3991-4b16-90db-0786f24e346e",
        "colab": {
          "base_uri": "https://localhost:8080/"
        }
      },
      "outputs": [
        {
          "output_type": "stream",
          "name": "stdout",
          "text": [
            "There are 18 prices listed, but only 11 unique price values.\n"
          ]
        }
      ],
      "source": [
        "print(\n",
        "    \"There are\", len(price_list), \"prices listed, but only\",\n",
        "    len(unique_prices), \"unique price values.\"\n",
        "    )"
      ]
    },
    {
      "cell_type": "markdown",
      "metadata": {
        "toc-hr-collapsed": true,
        "id": "HjlDY9ws3E6X"
      },
      "source": [
        "## 3.3 Exercises"
      ]
    },
    {
      "cell_type": "markdown",
      "metadata": {
        "id": "57_gPir93E6X"
      },
      "source": [
        "#### Exercise 15"
      ]
    },
    {
      "cell_type": "markdown",
      "metadata": {
        "id": "RU4koXmg3E6X"
      },
      "source": [
        "Create a tuple with 10 elements and store it in a variable named `first_tuple`."
      ]
    },
    {
      "cell_type": "code",
      "execution_count": null,
      "metadata": {
        "tags": [],
        "id": "ejDQKHVg3E6X"
      },
      "outputs": [],
      "source": [
        "# Your code here"
      ]
    },
    {
      "cell_type": "markdown",
      "metadata": {
        "jp-MarkdownHeadingCollapsed": true,
        "tags": [],
        "id": "othWGMZN3E6Y"
      },
      "source": [
        "##### Hint"
      ]
    },
    {
      "cell_type": "code",
      "execution_count": null,
      "metadata": {
        "id": "hIqAwund3E6Y"
      },
      "outputs": [],
      "source": [
        "# _____ = (1, 2, 3, 4, 5, 4, 3, 2, 1)"
      ]
    },
    {
      "cell_type": "markdown",
      "metadata": {
        "id": "HCgW5fk13E6Y"
      },
      "source": [
        "#### Exercise 16"
      ]
    },
    {
      "cell_type": "markdown",
      "metadata": {
        "id": "wNi2EMPQ3E6Y"
      },
      "source": [
        "Using `[]`, select only the first 6 elements of the tuple you created and store them in a new variable named `second_tuple`."
      ]
    },
    {
      "cell_type": "code",
      "execution_count": null,
      "metadata": {
        "tags": [],
        "id": "LJxae9Ft3E6Y"
      },
      "outputs": [],
      "source": [
        "# Your code here"
      ]
    },
    {
      "cell_type": "markdown",
      "metadata": {
        "jp-MarkdownHeadingCollapsed": true,
        "tags": [],
        "id": "olV5EdQm3E6Y"
      },
      "source": [
        "##### Hint"
      ]
    },
    {
      "cell_type": "code",
      "execution_count": null,
      "metadata": {
        "id": "P9oBzWRB3E6Y"
      },
      "outputs": [],
      "source": [
        "# second_tuple = _____[:6]"
      ]
    },
    {
      "cell_type": "markdown",
      "metadata": {
        "id": "xZOZDZoO3E6Z"
      },
      "source": [
        "#### Exercise 17"
      ]
    },
    {
      "cell_type": "markdown",
      "metadata": {
        "id": "PcIAJ5h_3E6Z"
      },
      "source": [
        "Convert the `second_tuple` into a set and store it in a variable called `first_set`."
      ]
    },
    {
      "cell_type": "code",
      "execution_count": null,
      "metadata": {
        "tags": [],
        "id": "LOykDurq3E6Z"
      },
      "outputs": [],
      "source": [
        "# Your code here"
      ]
    },
    {
      "cell_type": "markdown",
      "metadata": {
        "jp-MarkdownHeadingCollapsed": true,
        "tags": [],
        "id": "5DGzZD9q3E6Z"
      },
      "source": [
        "##### Hint"
      ]
    },
    {
      "cell_type": "code",
      "execution_count": null,
      "metadata": {
        "id": "RDQsksF23E6Z"
      },
      "outputs": [],
      "source": [
        "# first_set = set(_____)"
      ]
    },
    {
      "cell_type": "markdown",
      "metadata": {
        "id": "jNf-J26k3E6a"
      },
      "source": [
        "#### Exercise 18"
      ]
    },
    {
      "cell_type": "markdown",
      "metadata": {
        "id": "M8Z0VDys3E6a"
      },
      "source": [
        "Can you select the first element of the `first_set`?"
      ]
    },
    {
      "cell_type": "code",
      "execution_count": null,
      "metadata": {
        "tags": [],
        "id": "XaO713tt3E6a"
      },
      "outputs": [],
      "source": [
        "# Your code here"
      ]
    },
    {
      "cell_type": "markdown",
      "metadata": {
        "jp-MarkdownHeadingCollapsed": true,
        "tags": [],
        "id": "x6vueKra3E6a"
      },
      "source": [
        "##### Hint"
      ]
    },
    {
      "cell_type": "code",
      "execution_count": null,
      "metadata": {
        "id": "_PB_yOd93E6a"
      },
      "outputs": [],
      "source": [
        "# No"
      ]
    },
    {
      "cell_type": "markdown",
      "metadata": {
        "id": "1a3KDJki3E6a"
      },
      "source": [
        "#### Exercise 19"
      ]
    },
    {
      "cell_type": "markdown",
      "metadata": {
        "id": "4jnh0n_53E6b"
      },
      "source": [
        "Below, you have a set with healthy ingredients and another one with vegan ingredients. Using [set methods you will find here](https://www.w3schools.com/python/python_ref_set.asp), print out a set with ingredients that are both healthy and vegan."
      ]
    },
    {
      "cell_type": "code",
      "execution_count": null,
      "metadata": {
        "id": "Nwe2UOVF3E6b"
      },
      "outputs": [],
      "source": [
        "healthy_food = {\"apple\", \"salmon\", \"avocado\", \"seafood\", \"olive oil\", \"spinach\", \"yogurt\"}\n",
        "vegan_food = {\"cookies\", \"apple\", \"avocado\", \"candy\", \"olive oil\", \"fake chicken\", \"spinach\"}"
      ]
    },
    {
      "cell_type": "code",
      "execution_count": null,
      "metadata": {
        "tags": [],
        "id": "XWp4kD4h3E6b"
      },
      "outputs": [],
      "source": [
        "# Your code here"
      ]
    },
    {
      "cell_type": "markdown",
      "metadata": {
        "jp-MarkdownHeadingCollapsed": true,
        "tags": [],
        "id": "9Sj2_EnW3E6b"
      },
      "source": [
        "##### Hint"
      ]
    },
    {
      "cell_type": "code",
      "execution_count": null,
      "metadata": {
        "id": "Mwcohn3n3E6b"
      },
      "outputs": [],
      "source": [
        "# vegan_healthy = _____.intersection(vegan_food)\n",
        "# print(vegan_healthy)"
      ]
    }
  ],
  "metadata": {
    "colab": {
      "collapsed_sections": [
        "mhq-MXfp3E53",
        "-BLwJgyk3E54",
        "i9l9vkP_3E55",
        "cqwFsa9X3E56",
        "sae-AOXX3E57",
        "uKWbpdBJ3E59",
        "U4qtCahE3E5_",
        "eyL15YYa3E6B",
        "QN5Vawp03E6D",
        "LoUr_Vss3E6E",
        "TAS_v2ZX3E6R",
        "CDrDoe7c3E6S",
        "FgujRhPT3E6T",
        "bTRcEseV3E6U",
        "othWGMZN3E6Y",
        "olV5EdQm3E6Y",
        "5DGzZD9q3E6Z",
        "x6vueKra3E6a"
      ],
      "provenance": [],
      "include_colab_link": true
    },
    "kernelspec": {
      "display_name": "Python 3 (ipykernel)",
      "language": "python",
      "name": "python3"
    },
    "language_info": {
      "codemirror_mode": {
        "name": "ipython",
        "version": 3
      },
      "file_extension": ".py",
      "mimetype": "text/x-python",
      "name": "python",
      "nbconvert_exporter": "python",
      "pygments_lexer": "ipython3",
      "version": "3.9.12"
    }
  },
  "nbformat": 4,
  "nbformat_minor": 0
}